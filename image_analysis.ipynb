{
 "cells": [
  {
   "cell_type": "markdown",
   "id": "f952d70d",
   "metadata": {},
   "source": [
    "# 解剖学・骨学実習〜計測・解析編2〜\n",
    "\n",
    "[伊藤　毅](https://github.com/itots)  \n",
    "2021-12-17\n",
    "\n",
    "このドキュメントは、解剖学・骨学実習の計測・解析編第２部の補足資料です。第2部では、モルフォロジー処理、セグメンテーション、レジストレーションなどの画像処理を扱います。演習を通して、それらの初歩的な概念を理解することを目的とします。（第1部の補足資料は[こちら](https://itots.github.io/morphometrics_lecture/index.html)です。）\n",
    "\n",
    "## ソフトウェアの準備\n",
    "### Anaconda　　\n",
    "計算科学のためのPythonの総合開発環境です。  \n",
    "以下から対応するOSのインストーラをダウンロードし、指示に従ってインストールしてください。  \n",
    "https://www.anaconda.com/products/individual\n",
    "\n",
    "### SimpleITK\n",
    "画像処理のライブラリです。  \n",
    "Anacondaのインストール後、ターミナル（Windowsの場合は、スタートメニュー/Anaconda 3/Anaconda Prompt）を開いて、以下を入力・実行し、指示に従ってインストールしてください。\n",
    "```\n",
    "conda install -c simpleitk simpleitk\n",
    "```\n",
    "### elastix\n",
    "レジストレーションのためのソフトウェアです。  \n",
    "以下から対応するOSの圧縮フォルダをダウンロードし、適当な場所に保存して展開してください。  \n",
    "https://github.com/SuperElastix/elastix/releases/tag/5.0.1　   \n",
    "\n",
    "なお、今回は環境構築の簡略化のためコンパイル済のelastixソフトウェアを使用しますが、Pythonのパッケージ（[SimpleElastix](https://simpleelastix.github.io/)）としての利用も可能です。\n",
    "\n",
    "\n",
    "#### Macの場合\n",
    "`~/.zshrc`（もしくは`~/.bash_profile`）に以下を追記してください。`folder`は、先ほどダウンロード・展開したelastixのフォルダのパスです。\n",
    "```Zsh\n",
    "export PATH=folder/bin:$PATH\n",
    "export DYLD_LIBRARY_PATH=folder/lib:$DYLD_LIBRARY_PATH\n",
    "```\n",
    "#### Windowsの場合\n",
    "設定の「環境変数を編集」で、先ほどダウンロード・展開したelastixのフォルダのパスを追加してください。  \n",
    "具体的には、ユーザーの環境変数のPathを選択→編集→新規→パスを入力→OKです。\n",
    "\n",
    "### 3D Slicer\n",
    "画像処理のGUIソフトウェアです。  \n",
    "以下から対応するOSのインストーラをダウンロードし、指示に従ってインストールしてください。  \n",
    "https://download.slicer.org/\n",
    "\n",
    "### 確認\n",
    "ターミナル（Windowsの場合はAnaconda Prompt）で、以下を入力実行し、エラーが出ないことを確認してください。\n",
    "```Zsh\n",
    "elastix --version\n",
    "```\n",
    "```Zsh\n",
    "python\n",
    "```\n",
    "（ここで、`>>>`のようなプロンプトに変わるので、その状態で以下を入力実行してください。）\n",
    "```Python\n",
    "import SimpleITK\n",
    "```"
   ]
  },
  {
   "cell_type": "markdown",
   "id": "5882cbc3-e6fd-4702-90da-4dbdd96878f1",
   "metadata": {},
   "source": [
    "## 画像データの基本"
   ]
  },
  {
   "cell_type": "markdown",
   "id": "fe80f90e",
   "metadata": {
    "tags": []
   },
   "source": [
    "### 使用するDICOMデータ\n",
    "[Digital Morphology Museum, Kyoto University](http://dmm.pri.kyoto-u.ac.jp/dmm/WebGallery/index.html)の以下のDICOMデータを使用しますが、自分のデータでも試してみると面白いと思います（ただし大きすぎるデータは普通のPCでは扱えないかもしれません）。  \n",
    "\n",
    "| PRICT ID | PRISK ID | Species | Sex |\n",
    "| ---- | ---- | ---- | ---- |\n",
    "| [2739](http://dmm.pri.kyoto-u.ac.jp/dmm/WebGallery/dicom/dicomProperty.html?id=2797) | 7379 | <i>Macaca fuscata</i> | female |\n",
    "| [1010](http://dmm.pri.kyoto-u.ac.jp/dmm/WebGallery/dicom/dicomProperty.html?id=1014) | 9361 | <i>Macaca fuscata</i> | male |\n",
    "| [1465](http://dmm.pri.kyoto-u.ac.jp/dmm/WebGallery/dicom/dicomProperty.html?id=1477) | 3027 | <i>Macaca mulatta</i> | female |  \n",
    "\n",
    "以下の階層構造を持つとします。\n",
    "```Zsh\n",
    ".\n",
    "├── dicom\n",
    "│   ├── PRI-3027\n",
    "│   │   ├── instance_2693.dcm\n",
    "│   │   ├── instance_2694.dcm\n",
    "│   │           （省略）\n",
    "│   ├── PRI-7379\n",
    "│   └── PRI-9361\n",
    "├── image_analysis.ipynb\n",
    "└── parameters\n",
    "```"
   ]
  },
  {
   "cell_type": "markdown",
   "id": "70fdcd45-4a45-4762-a6ad-e7e05ca45416",
   "metadata": {},
   "source": [
    "### SimpleITKでDICOMデータを読み込む\n",
    "Insight Segmentation and Registration Toolkit (ITK)は、セグメンテーションとレジストレーションをはじめとする画像解析の開発のためのオープンソースでクロスプラットフォームなライブラリで、様々な画像解析ソフトウェアで使用されています。\n",
    "SimpleITKは、ITKを簡略化したプログラミングインターフェイスです（Beare et al. 2018, Yaniv et al. 2018, Lowekamp et al. 2013）。以下コードは、SimpleITK Notebooks (https://github.com/InsightSoftwareConsortium/SimpleITK-Notebooks) を参考にしています。"
   ]
  },
  {
   "cell_type": "code",
   "execution_count": null,
   "id": "86309a70-de93-4b10-91da-37f351c1632d",
   "metadata": {},
   "outputs": [],
   "source": [
    "import SimpleITK as sitk\n",
    "import numpy as np\n",
    "import matplotlib.pyplot as plt\n",
    "import subprocess\n",
    "import os\n",
    "import pandas as pd\n",
    "from skimage.measure import profile_line"
   ]
  },
  {
   "cell_type": "markdown",
   "id": "80d63d26-de6a-4308-aac3-47ed659868ca",
   "metadata": {},
   "source": [
    "DICOMデータ（PRI-7379）を読み込みます。"
   ]
  },
  {
   "cell_type": "code",
   "execution_count": null,
   "id": "59e3cc08",
   "metadata": {},
   "outputs": [],
   "source": [
    "dicom_names = sitk.ImageSeriesReader_GetGDCMSeriesFileNames(\"./dicom/PRI-7379\")\n",
    "img = sitk.ReadImage(dicom_names)"
   ]
  },
  {
   "cell_type": "markdown",
   "id": "ae75c299-af8a-464a-bc4d-9ae98182eadf",
   "metadata": {},
   "source": [
    "読み込み関数を作成します。"
   ]
  },
  {
   "cell_type": "code",
   "execution_count": null,
   "id": "43c98f29-dcfd-4c02-bf3d-6c0fd7f929a7",
   "metadata": {},
   "outputs": [],
   "source": [
    "def read_dicom(path_to_dir):\n",
    "    dicom_names = sitk.ImageSeriesReader_GetGDCMSeriesFileNames(path_to_dir)    \n",
    "    sitk.ProcessObject_SetGlobalWarningDisplay(False) # ピクセルサイズとスライス間隔が異なると警告が出るため。\n",
    "    img = sitk.ReadImage(dicom_names)\n",
    "    sitk.ProcessObject_SetGlobalWarningDisplay(True)\n",
    "    return img"
   ]
  },
  {
   "cell_type": "code",
   "execution_count": null,
   "id": "c6dc9d6f-9f81-42dd-a4ca-341e53f9663a",
   "metadata": {},
   "outputs": [],
   "source": [
    "img = read_dicom(\"./dicom/PRI-7379/\")"
   ]
  },
  {
   "cell_type": "markdown",
   "id": "8a06ebf7-e443-4f0d-bb19-a5ee4f6dc429",
   "metadata": {},
   "source": [
    "### 画像の特性\n",
    "SimpleITK（ITK）では、画像データは次のように定義されます。　　\n",
    "> image is defined by a set of points on a grid occupying a physical region in space  \n",
    "\n",
    "画像の領域（physical region）は、Origin（原点）、Spacing（ピクセル間間隔）、Size（ピクセル数）、Direction cosine matrix（方向余弦行列）で定義されます。\n",
    "> - Origin (vector like type) - location in the world coordinate system of the voxel with all zero indexes.\n",
    "> - Spacing (vector like type) - distance between pixels along each of the dimensions.\n",
    "> - Size (vector like type) - number of pixels in each dimension.\n",
    "> - Direction cosine matrix (vector like type representing matrix in row major order) - direction of each of the axes corresponding to the matrix columns.\n",
    "\n",
    "出典：https://simpleitk.readthedocs.io/en/master/fundamentalConcepts.html#  \n",
    "\n",
    "先ほど読み込んだPRI-7379の属性値を確認します。"
   ]
  },
  {
   "cell_type": "code",
   "execution_count": null,
   "id": "630d1de5",
   "metadata": {},
   "outputs": [],
   "source": [
    "print(\"Size:\", img.GetSize())\n",
    "print(\"Origin:\", img.GetOrigin())\n",
    "print(\"Spacing\", img.GetSpacing())\n",
    "print(\"Direction\", img.GetDirection())"
   ]
  },
  {
   "cell_type": "markdown",
   "id": "c994c5b9-85e7-40da-b410-e117e4501262",
   "metadata": {},
   "source": [
    "SimpleITKのImageが持つ属性は`help()`で確認できます。"
   ]
  },
  {
   "cell_type": "code",
   "execution_count": null,
   "id": "7c0f053b-1c4a-4371-9e26-c7518fb93788",
   "metadata": {},
   "outputs": [],
   "source": [
    "help(img)"
   ]
  },
  {
   "cell_type": "markdown",
   "id": "d8a7cbda-c4bf-449d-ae46-234e7d20817d",
   "metadata": {},
   "source": [
    "### ImageからNumpy配列への変換\n",
    "ImageからNumPyのndarray（多次元配列）に変換します。"
   ]
  },
  {
   "cell_type": "code",
   "execution_count": null,
   "id": "9bedb2bc-321b-40d0-8e95-8aab86851367",
   "metadata": {},
   "outputs": [],
   "source": [
    "nda = sitk.GetArrayFromImage(img)\n",
    "print(nda)"
   ]
  },
  {
   "cell_type": "markdown",
   "id": "2628be0a-6c91-4b97-a854-c3dc4168f4f1",
   "metadata": {},
   "source": [
    "SimpleITKとNumPyでは軸の順番が異なることに注意が必要です。  \n",
    "- SimpleITK: [x,y,z]  \n",
    "- NumPy: [z,y,x]"
   ]
  },
  {
   "cell_type": "code",
   "execution_count": null,
   "id": "1db2e3d4-2664-445c-9580-411ad7ee79f7",
   "metadata": {},
   "outputs": [],
   "source": [
    "print(\"SimpleITK img size\", img.GetSize())\n",
    "print(\"NumPy nda size\", nda.shape)"
   ]
  },
  {
   "cell_type": "markdown",
   "id": "f342d130-3dbb-44f6-8322-b6a36c49281d",
   "metadata": {},
   "source": [
    "### 画像の描画\n",
    "SimpleITKのImageクラスは描画メソッドを持ちません。  "
   ]
  },
  {
   "cell_type": "code",
   "execution_count": null,
   "id": "63d54957-6c21-47fe-be77-b86e2d0d4de5",
   "metadata": {},
   "outputs": [],
   "source": [
    "plt.imshow(nda[200], cmap='gray')"
   ]
  },
  {
   "cell_type": "code",
   "execution_count": null,
   "id": "e3ef45de-ba1f-4dff-808f-c2f281521abf",
   "metadata": {},
   "outputs": [],
   "source": [
    "plt.imshow(nda[:,200,:], cmap='gray')"
   ]
  },
  {
   "cell_type": "markdown",
   "id": "baa0daff-3632-49f9-8469-9f27ef4f4002",
   "metadata": {},
   "source": [
    "Spacing（ピクセル間間隔）が不均一なことに注意してください。"
   ]
  },
  {
   "cell_type": "code",
   "execution_count": null,
   "id": "bc97dcbf-ee8a-41ea-9c72-8dc5384e1a6f",
   "metadata": {},
   "outputs": [],
   "source": [
    "plt.imshow(nda[:,200,:], cmap='gray', aspect = img.GetSpacing()[2]/img.GetSpacing()[1])"
   ]
  },
  {
   "cell_type": "markdown",
   "id": "f9211c98-d040-4604-9f4d-71332e9dedb0",
   "metadata": {},
   "source": [
    "軸を物理距離（mm）で表示します。"
   ]
  },
  {
   "cell_type": "code",
   "execution_count": null,
   "id": "615d4d44-0792-4518-b19d-a56315a0abbd",
   "metadata": {},
   "outputs": [],
   "source": [
    "plt.imshow(nda[:,200,:], cmap='gray', extent = (0,nda.shape[2]*img.GetSpacing()[0],nda.shape[0]*img.GetSpacing()[2],0))"
   ]
  },
  {
   "cell_type": "markdown",
   "id": "c8368757-d5e6-476f-b41d-f92240e9f1e8",
   "metadata": {},
   "source": [
    "描画関数を作成します。"
   ]
  },
  {
   "cell_type": "code",
   "execution_count": null,
   "id": "4bc05275-07ed-4858-b3ca-99d0f845247d",
   "metadata": {},
   "outputs": [],
   "source": [
    "def imshow(img, \n",
    "           nonuniform=False, alpha=1, cmap='gray', mask=None, phys_axis=False,\n",
    "           h_min=None, h_max=None, v_min=None, v_max=None):\n",
    "    \n",
    "    nda = sitk.GetArrayFromImage(img).T # imgとndaの軸の順番の違いに注意。\n",
    "\n",
    "    if mask is None:\n",
    "        nda_show = nda\n",
    "    else:\n",
    "        nda_show = np.ma.masked_where(nda < mask, nda)\n",
    "    \n",
    "    if phys_axis:\n",
    "        extent = (0, nda.shape[0]*img.GetSpacing()[0], nda.shape[1]*img.GetSpacing()[1], 0)\n",
    "        aspect = 1\n",
    "    else:\n",
    "        extent = (0, nda.shape[0], nda.shape[1], 0)\n",
    "        if nonuniform:\n",
    "            aspect = img.GetSpacing()[1]/img.GetSpacing()[0]\n",
    "        else:\n",
    "            aspect = 1\n",
    "    \n",
    "    plt.imshow(nda_show.T, cmap=cmap, alpha=alpha, aspect=aspect, extent=extent)\n",
    "    if h_min is not None and h_max is not None: \n",
    "        plt.xlim(h_min,h_max)\n",
    "    if v_min is not None and v_max is not None: \n",
    "        plt.ylim(v_min,v_max)\n",
    "        \n",
    "    if phys_axis:\n",
    "        plt.xlabel(\"mm\")\n",
    "        plt.ylabel(\"mm\")  "
   ]
  },
  {
   "cell_type": "code",
   "execution_count": null,
   "id": "e56f515d-5067-4796-aa1e-bd27b606a3d4",
   "metadata": {},
   "outputs": [],
   "source": [
    "imshow(img[:,:,200])"
   ]
  },
  {
   "cell_type": "markdown",
   "id": "2d8334a1-f24d-4f2d-bee3-f20b8476ce3a",
   "metadata": {},
   "source": [
    "### NumPy配列からImageへの変換\n",
    "Origin、Spacing、Directionなどがリセットされていることに注意してください。"
   ]
  },
  {
   "cell_type": "code",
   "execution_count": null,
   "id": "0ff98153-a6df-4b84-b9c8-d043f0a50ec9",
   "metadata": {},
   "outputs": [],
   "source": [
    "img_rev = sitk.GetImageFromArray(nda)"
   ]
  },
  {
   "cell_type": "code",
   "execution_count": null,
   "id": "0f31a76f-a159-4077-ace7-09c2c5d7120f",
   "metadata": {},
   "outputs": [],
   "source": [
    "print(\"Size:\", img_rev.GetSize())\n",
    "print(\"Origin:\", img_rev.GetOrigin())\n",
    "print(\"Spacing\", img_rev.GetSpacing())\n",
    "print(\"Direction\", img_rev.GetDirection())"
   ]
  },
  {
   "cell_type": "markdown",
   "id": "9a6c36d9-2384-412f-bdfb-3437415c4a6d",
   "metadata": {},
   "source": [
    "属性値をリストアします。"
   ]
  },
  {
   "cell_type": "code",
   "execution_count": null,
   "id": "571e0ab7-3927-464a-a676-6fc3956a8cd5",
   "metadata": {},
   "outputs": [],
   "source": [
    "img_rev.CopyInformation(img)"
   ]
  },
  {
   "cell_type": "code",
   "execution_count": null,
   "id": "1ad832dc-36fa-44fa-a8a0-7ce52d60e0fc",
   "metadata": {},
   "outputs": [],
   "source": [
    "print(\"Size:\", img_rev.GetSize())\n",
    "print(\"Origin:\", img_rev.GetOrigin())\n",
    "print(\"Spacing\", img_rev.GetSpacing())\n",
    "print(\"Direction\", img_rev.GetDirection())"
   ]
  },
  {
   "cell_type": "markdown",
   "id": "a0ac5f7b-6df7-428a-83b9-59a6ea1e7688",
   "metadata": {},
   "source": [
    "## モルフォロジー演算\n",
    "\n",
    "Morphological operation（モルフォロジー演算）は、主に2値化画像を対象とした、形状に基づく画像処理技術のことです。  \n",
    "  \n",
    "グローバル閾値（$> -700$）でセグメンテーション（2値化）します。"
   ]
  },
  {
   "cell_type": "code",
   "execution_count": null,
   "id": "d94e0f59-1046-42f4-b013-5234313b6691",
   "metadata": {},
   "outputs": [],
   "source": [
    "seg_th0 = img > -700"
   ]
  },
  {
   "cell_type": "code",
   "execution_count": null,
   "id": "077682de-8a47-4f86-bc03-f2795290f41b",
   "metadata": {},
   "outputs": [],
   "source": [
    "plt.figure(figsize=(10,10))\n",
    "imshow(seg_th0[:,:,30], v_min=250, v_max=0, h_min=125, h_max=375)"
   ]
  },
  {
   "cell_type": "markdown",
   "id": "638aca9d-993d-4a86-8f3b-247288d93444",
   "metadata": {},
   "source": [
    "### Erosion（収縮）"
   ]
  },
  {
   "cell_type": "code",
   "execution_count": null,
   "id": "f8f3cd93-1692-48ca-a887-5765f12577c3",
   "metadata": {},
   "outputs": [],
   "source": [
    "seg_th0_er = sitk.BinaryErode(seg_th0)\n",
    "fig = plt.figure(figsize=(20, 10))\n",
    "fig.add_subplot(1, 2, 1)\n",
    "plt.title(\"original\")\n",
    "imshow(seg_th0[:,:,30], v_min=250, v_max=0, h_min=125, h_max=375)\n",
    "fig.add_subplot(1, 2, 2)\n",
    "plt.title(\"erosion\")\n",
    "imshow(seg_th0_er[:,:,30], v_min=250, v_max=0, h_min=125, h_max=375)"
   ]
  },
  {
   "cell_type": "markdown",
   "id": "471ee696-e001-4830-bc16-d1ff14d9aa43",
   "metadata": {},
   "source": [
    "### Dilation（膨張）"
   ]
  },
  {
   "cell_type": "code",
   "execution_count": null,
   "id": "34169263-1130-47f8-b2e1-23b4bcc7eb54",
   "metadata": {},
   "outputs": [],
   "source": [
    "seg_th0_dl = sitk.BinaryDilate(seg_th0)\n",
    "fig = plt.figure(figsize=(20, 10))\n",
    "fig.add_subplot(1, 2, 1)\n",
    "plt.title(\"original\")\n",
    "imshow(seg_th0[:,:,30], v_min=250, v_max=0, h_min=125, h_max=375)\n",
    "fig.add_subplot(1, 2, 2)\n",
    "plt.title(\"dilation\")\n",
    "imshow(seg_th0_dl[:,:,30], v_min=250, v_max=0, h_min=125, h_max=375)"
   ]
  },
  {
   "cell_type": "markdown",
   "id": "f407bbda-9761-43f3-b658-24ce57310349",
   "metadata": {},
   "source": [
    "### ErosionとDilationの組み合わせ\n",
    "順番によって結果が異なります。\n",
    "\n",
    "- erosion → dilation：島（ノイズ）の除去\n",
    "- dilation → erosion：穴埋め"
   ]
  },
  {
   "cell_type": "code",
   "execution_count": null,
   "id": "7bed05cb-60af-4ae4-a17b-7dcce1dc8d76",
   "metadata": {},
   "outputs": [],
   "source": [
    "seg_th0_er_dl = sitk.BinaryDilate(seg_th0_er)\n",
    "seg_th0_dl_er = sitk.BinaryErode(seg_th0_dl)\n",
    "\n",
    "fig = plt.figure(figsize=(20, 10))\n",
    "fig.add_subplot(1, 3, 1)\n",
    "plt.title(\"original\")\n",
    "imshow(seg_th0[:,:,30], v_min=250, v_max=0, h_min=125, h_max=375)\n",
    "fig.add_subplot(1, 3, 2)\n",
    "plt.title(\"dilation after erosion\")\n",
    "imshow(seg_th0_er_dl[:,:,30], v_min=250, v_max=0, h_min=125, h_max=375)\n",
    "fig.add_subplot(1, 3, 3)\n",
    "plt.title(\"erosion after dilation\")\n",
    "imshow(seg_th0_dl_er[:,:,30], v_min=250, v_max=0, h_min=125, h_max=375)"
   ]
  },
  {
   "cell_type": "markdown",
   "id": "07a5f239-04e7-41f9-83d4-da135d3cef75",
   "metadata": {},
   "source": [
    "### OpeningとClosing\n",
    "これらの処理は、それぞれopeningとclosingと呼ばれ、専用の関数が用意されています。 "
   ]
  },
  {
   "cell_type": "code",
   "execution_count": null,
   "id": "0ab2bfe2-7e90-4539-877a-c5488c454329",
   "metadata": {},
   "outputs": [],
   "source": [
    "seg_th0_op = sitk.BinaryMorphologicalOpening(seg_th0)\n",
    "seg_th0_cl = sitk.BinaryMorphologicalClosing(seg_th0)\n",
    "\n",
    "fig = plt.figure(figsize=(20, 10))\n",
    "fig.add_subplot(1, 3, 1)\n",
    "plt.title(\"original\")\n",
    "imshow(seg_th0[:,:,30], v_min=250, v_max=0, h_min=125, h_max=375)\n",
    "fig.add_subplot(1, 3, 2)\n",
    "plt.title(\"opening\")\n",
    "imshow(seg_th0_op[:,:,30], v_min=250, v_max=0, h_min=125, h_max=375)\n",
    "fig.add_subplot(1, 3, 3)\n",
    "plt.title(\"closing\")\n",
    "imshow(seg_th0_cl[:,:,30], v_min=250, v_max=0, h_min=125, h_max=375)"
   ]
  },
  {
   "cell_type": "markdown",
   "id": "3335f4be-2ecd-415d-85bc-781e9f531972",
   "metadata": {},
   "source": [
    "## セグメンテーション\n",
    "\n",
    "セグメンテーションは、画像データをいくつかのセグメントに分割する画像処理技術のことです。とくに２つのセグメントに分割することを2値化ともいいます。\n",
    "\n",
    "### Half-maximum height (HMH)\n",
    "[ここ](https://itots.github.io/morphometrics_lecture/index.html#33_3D%E3%82%B5%E3%83%BC%E3%83%95%E3%82%A7%E3%82%B9%E3%83%A2%E3%83%87%E3%83%AB%E3%81%AE%E4%BD%9C%E6%88%90)も参考にしてください。"
   ]
  },
  {
   "cell_type": "code",
   "execution_count": null,
   "id": "29c8dd60-83b8-45d2-bf2c-2b7fc948ecb3",
   "metadata": {},
   "outputs": [],
   "source": [
    "profile0 = profile_line(nda[60],[220,190],[205,205], linewidth=1, mode='reflect')\n",
    "\n",
    "fig = plt.figure(figsize=(20, 10))\n",
    "fig.add_subplot(1, 2, 1)\n",
    "plt.plot([190,205], [220,205], color='orange')\n",
    "imshow(img[:,:,60], v_max=150, v_min=250, h_min=150, h_max=250)\n",
    "fig.add_subplot(1, 2, 2)\n",
    "plt.plot(profile0, color='orange')"
   ]
  },
  {
   "cell_type": "code",
   "execution_count": null,
   "id": "790b4542-a15b-4d70-90dd-b92a3996e9d0",
   "metadata": {},
   "outputs": [],
   "source": [
    "hmh0 = (profile0.max() + profile0.min())/2\n",
    "print(\"HMH: \", hmh0)"
   ]
  },
  {
   "cell_type": "code",
   "execution_count": null,
   "id": "1d7aff4d-08c0-4e2c-a93e-d2e893ea9c94",
   "metadata": {},
   "outputs": [],
   "source": [
    "profile1 = profile_line(nda[250],[425,145], [410,160], linewidth=1, mode='reflect')\n",
    "\n",
    "fig = plt.figure(figsize=(20, 10))\n",
    "fig.add_subplot(1, 2, 1)\n",
    "plt.plot([145,160], [425,410], color='orange')\n",
    "imshow(img[:,:,250], v_max=380, v_min=450, h_min=115, h_max=185)\n",
    "fig.add_subplot(1, 2, 2)\n",
    "plt.plot(profile1, color='orange')"
   ]
  },
  {
   "cell_type": "code",
   "execution_count": null,
   "id": "cba24e93-a76a-47d7-ba5f-8864cd806ebe",
   "metadata": {},
   "outputs": [],
   "source": [
    "hmh1 = (profile1.max() + profile1.min())/2\n",
    "print(\"HMH: \", hmh1)"
   ]
  },
  {
   "cell_type": "markdown",
   "id": "c101a8ef-86be-44ca-939a-38171658ae3c",
   "metadata": {},
   "source": [
    "### グローバル閾値"
   ]
  },
  {
   "cell_type": "code",
   "execution_count": null,
   "id": "9d6d0fab-90e0-4d26-8a6e-6645f2899e10",
   "metadata": {},
   "outputs": [],
   "source": [
    "seg_th1 = img > hmh0\n",
    "seg_th2 = img > hmh1"
   ]
  },
  {
   "cell_type": "code",
   "execution_count": null,
   "id": "d45e2b23-b014-4029-8d52-87b56489ae50",
   "metadata": {},
   "outputs": [],
   "source": [
    "fig = plt.figure(figsize=(20, 10))\n",
    "fig.add_subplot(1, 4, 1)\n",
    "imshow(img[:,:,60], v_max=150, v_min=250, h_min=150, h_max=250)\n",
    "fig.add_subplot(1, 4, 2)\n",
    "plt.title(hmh0)\n",
    "imshow(img[:,:,60], v_max=150, v_min=250, h_min=150, h_max=250)\n",
    "imshow(seg_th1[:,:,60], v_max=150, v_min=250, h_min=150, h_max=250, alpha=0.5, cmap='Set2', mask=1)\n",
    "fig.add_subplot(1, 4, 3)\n",
    "imshow(img[:,:,60], v_max=150, v_min=250, h_min=150, h_max=250)\n",
    "imshow(seg_th1[:,:,60], v_max=150, v_min=250, h_min=150, h_max=250, alpha=0.5, cmap='Set2', mask=1)\n",
    "imshow(seg_th2[:,:,60], v_max=150, v_min=250, h_min=150, h_max=250, alpha=0.5, cmap='Set1', mask=1)\n",
    "fig.add_subplot(1, 4, 4)\n",
    "plt.title(hmh1)\n",
    "imshow(img[:,:,60], v_max=150, v_min=250, h_min=150, h_max=250)\n",
    "imshow(seg_th2[:,:,60], v_max=150, v_min=250, h_min=150, h_max=250, alpha=0.5, cmap='Set1', mask=1)"
   ]
  },
  {
   "cell_type": "code",
   "execution_count": null,
   "id": "a5170195-5421-4543-a247-635f7fa22493",
   "metadata": {},
   "outputs": [],
   "source": [
    "fig = plt.figure(figsize=(20, 10))\n",
    "fig.add_subplot(1, 4, 1)\n",
    "imshow(img[:,:,250], v_max=380, v_min=450, h_min=115, h_max=185)\n",
    "fig.add_subplot(1, 4, 2)\n",
    "plt.title(hmh0)\n",
    "imshow(img[:,:,250], v_max=380, v_min=450, h_min=115, h_max=185)\n",
    "imshow(seg_th1[:,:,250], v_max=380, v_min=450, h_min=115, h_max=185, alpha=0.5, cmap='Set2', mask=1)\n",
    "fig.add_subplot(1, 4, 3)\n",
    "imshow(img[:,:,250], v_max=380, v_min=450, h_min=115, h_max=185)\n",
    "imshow(seg_th1[:,:,250], v_max=380, v_min=450, h_min=115, h_max=185, alpha=0.5, cmap='Set2', mask=1)\n",
    "imshow(seg_th2[:,:,250], v_max=380, v_min=450, h_min=115, h_max=185, alpha=0.5, cmap='Set1', mask=1)\n",
    "fig.add_subplot(1, 4, 4)\n",
    "plt.title(hmh1)\n",
    "imshow(img[:,:,250], v_max=380, v_min=450, h_min=115, h_max=185)\n",
    "imshow(seg_th2[:,:,250], v_max=380, v_min=450, h_min=115, h_max=185, alpha=0.5, cmap='Set1', mask=1)"
   ]
  },
  {
   "cell_type": "markdown",
   "id": "37a457f6-7801-4372-abe0-2e304c4f829e",
   "metadata": {
    "tags": []
   },
   "source": [
    "### エッジ検出\n",
    "\n",
    "- Prewitt\n",
    "- Sobel\n",
    "- Canny  \n",
    "\n",
    "などの方法があります。\n",
    "今回はSobelフィルタを使用します。  \n",
    "\n",
    "Sobel処理は、通常$3\\times3$のカーネル（フィルタ）を用いて、畳み込みを行います。\n",
    "![sobel operation](figure/sobel.png)  \n",
    "Sobel処理の概念図"
   ]
  },
  {
   "cell_type": "code",
   "execution_count": null,
   "id": "e6d4ce64-6f1c-4747-82cf-f8821bb47f7b",
   "metadata": {},
   "outputs": [],
   "source": [
    "sobel = sitk.SobelEdgeDetection(sitk.Cast(sitk.RescaleIntensity(img), sitk.sitkFloat64))\n",
    "plt.figure(figsize=(15,15))\n",
    "imshow(sobel[:,:,200])"
   ]
  },
  {
   "cell_type": "markdown",
   "id": "7e548837-0dc1-44d0-9aa0-dced7846f5fa",
   "metadata": {},
   "source": [
    "-700以下をマスクします。"
   ]
  },
  {
   "cell_type": "code",
   "execution_count": null,
   "id": "dd455b33-c7ea-44f0-ad2b-fae3465a8e4f",
   "metadata": {},
   "outputs": [],
   "source": [
    "img_msk = sitk.Mask(img, img > -700, -1000, 0)\n",
    "sobel = sitk.SobelEdgeDetection(sitk.Cast(sitk.RescaleIntensity(img_msk), sitk.sitkFloat64))\n",
    "plt.figure(figsize=(15,15))\n",
    "imshow(sobel[:,:,200])"
   ]
  },
  {
   "cell_type": "markdown",
   "id": "14a401e3-7226-4e38-bb5b-9e35b55d71b8",
   "metadata": {},
   "source": [
    "### 分水嶺法\n",
    "領域指定のための種（seeds）を準備します。"
   ]
  },
  {
   "cell_type": "code",
   "execution_count": null,
   "id": "ef0aabd3-9bbd-4612-b892-658a702634ea",
   "metadata": {},
   "outputs": [],
   "source": [
    "bone = sitk.BinaryErode(img > -500)\n",
    "air = img < -1000\n",
    "bone_air = bone + air * 2\n",
    "fig = plt.figure(figsize=(15,10))\n",
    "fig.add_subplot(1, 2, 1)\n",
    "plt.title(\"bone seed\")\n",
    "imshow(sobel[:,:,200])\n",
    "imshow(bone[:,:,200], cmap = \"Wistia\", alpha = 0.3, mask=1)\n",
    "fig.add_subplot(1, 2, 2)\n",
    "plt.title(\"air seed\")\n",
    "imshow(sobel[:,:,200])\n",
    "imshow(air[:,:,200], cmap = \"cool\", alpha = 0.3, mask=1)"
   ]
  },
  {
   "cell_type": "markdown",
   "id": "67a1f805-3e60-44c1-8d3a-bf7e1af160da",
   "metadata": {},
   "source": [
    "勾配の大きさの分水嶺を境界としてセグメンテーションします。"
   ]
  },
  {
   "cell_type": "code",
   "execution_count": null,
   "id": "2a3ca723-1063-45d0-b735-0969e2c43842",
   "metadata": {},
   "outputs": [],
   "source": [
    "seg_ws = sitk.MorphologicalWatershedFromMarkers(sobel, bone_air, markWatershedLine=False, fullyConnected=False)\n",
    "seg_ws = seg_ws < 2  # 空気のラベルの除去"
   ]
  },
  {
   "cell_type": "code",
   "execution_count": null,
   "id": "509a0e48-1604-42b7-b93e-cb807558845d",
   "metadata": {},
   "outputs": [],
   "source": [
    "plt.figure(figsize=(15,15))\n",
    "imshow(img[:,:,200])\n",
    "imshow(seg_ws[:,:,200], cmap = \"Wistia\", alpha = 0.5, mask=1)"
   ]
  },
  {
   "cell_type": "code",
   "execution_count": null,
   "id": "2a6eff45-f4bf-4815-9d61-647dbfcab9f4",
   "metadata": {},
   "outputs": [],
   "source": [
    "fig = plt.figure(figsize=(20, 10))\n",
    "fig.add_subplot(2, 4, 1)\n",
    "imshow(img[:,:,60], v_max=150, v_min=250, h_min=150, h_max=250)\n",
    "fig.add_subplot(2, 4, 2)\n",
    "plt.title(hmh0)\n",
    "imshow(img[:,:,60], v_max=150, v_min=250, h_min=150, h_max=250)\n",
    "imshow(seg_th1[:,:,60], v_max=150, v_min=250, h_min=150, h_max=250, alpha=0.5, cmap='Set2', mask=1)\n",
    "fig.add_subplot(2, 4, 3)\n",
    "imshow(img[:,:,60], v_max=150, v_min=250, h_min=150, h_max=250)\n",
    "imshow(seg_th1[:,:,60], v_max=150, v_min=250, h_min=150, h_max=250, alpha=0.5, cmap='Set2', mask=1)\n",
    "imshow(seg_ws[:,:,60], v_max=150, v_min=250, h_min=150, h_max=250, alpha=0.5, cmap='Wistia', mask=1)\n",
    "fig.add_subplot(2, 4, 4)\n",
    "plt.title(\"watershed\")\n",
    "imshow(img[:,:,60], v_max=150, v_min=250, h_min=150, h_max=250)\n",
    "imshow(seg_ws[:,:,60], v_max=150, v_min=250, h_min=150, h_max=250, alpha=0.5, cmap='Wistia', mask=1)\n",
    "\n",
    "fig.add_subplot(2, 4, 5)\n",
    "imshow(img[:,:,60], v_max=150, v_min=250, h_min=150, h_max=250)\n",
    "fig.add_subplot(2, 4, 6)\n",
    "plt.title(hmh1)\n",
    "imshow(img[:,:,60], v_max=150, v_min=250, h_min=150, h_max=250)\n",
    "imshow(seg_th2[:,:,60], v_max=150, v_min=250, h_min=150, h_max=250, alpha=0.5, cmap='Set1', mask=1)\n",
    "fig.add_subplot(2, 4, 7)\n",
    "imshow(img[:,:,60], v_max=150, v_min=250, h_min=150, h_max=250)\n",
    "imshow(seg_ws[:,:,60], v_max=150, v_min=250, h_min=150, h_max=250, alpha=0.5, cmap='Wistia', mask=1)\n",
    "imshow(seg_th2[:,:,60], v_max=150, v_min=250, h_min=150, h_max=250, alpha=0.5, cmap='Set1', mask=1)\n",
    "fig.add_subplot(2, 4, 8)\n",
    "plt.title(\"watershed\")\n",
    "imshow(img[:,:,60], v_max=150, v_min=250, h_min=150, h_max=250)\n",
    "imshow(seg_ws[:,:,60], v_max=150, v_min=250, h_min=150, h_max=250, alpha=0.5, cmap='Wistia', mask=1)"
   ]
  },
  {
   "cell_type": "code",
   "execution_count": null,
   "id": "1a32db84-a38a-435b-b620-c246e078320d",
   "metadata": {},
   "outputs": [],
   "source": [
    "fig = plt.figure(figsize=(20, 10))\n",
    "fig.add_subplot(2, 4, 1)\n",
    "imshow(img[:,:,250], v_max=380, v_min=450, h_min=115, h_max=185)\n",
    "fig.add_subplot(2, 4, 2)\n",
    "plt.title(hmh0)\n",
    "imshow(img[:,:,250], v_max=380, v_min=450, h_min=115, h_max=185)\n",
    "imshow(seg_th1[:,:,250], v_max=380, v_min=450, h_min=115, h_max=185, alpha=0.5, cmap='Set2', mask=1)\n",
    "fig.add_subplot(2, 4, 3)\n",
    "imshow(img[:,:,250], v_max=380, v_min=450, h_min=115, h_max=185)\n",
    "imshow(seg_th1[:,:,250], v_max=380, v_min=450, h_min=115, h_max=185, alpha=0.5, cmap='Set2', mask=1)\n",
    "imshow(seg_ws[:,:,250], v_max=380, v_min=450, h_min=115, h_max=185, alpha=0.5, cmap='Wistia', mask=1)\n",
    "fig.add_subplot(2, 4, 4)\n",
    "plt.title(\"watershed\")\n",
    "imshow(img[:,:,250], v_max=380, v_min=450, h_min=115, h_max=185)\n",
    "imshow(seg_ws[:,:,250], v_max=380, v_min=450, h_min=115, h_max=185, alpha=0.5, cmap='Wistia', mask=1)\n",
    "\n",
    "fig.add_subplot(2, 4, 5)\n",
    "imshow(img[:,:,250], v_max=380, v_min=450, h_min=115, h_max=185)\n",
    "fig.add_subplot(2, 4, 6)\n",
    "plt.title(hmh1)\n",
    "imshow(img[:,:,250], v_max=380, v_min=450, h_min=115, h_max=185)\n",
    "imshow(seg_th2[:,:,250], v_max=380, v_min=450, h_min=115, h_max=185, alpha=0.5, cmap='Set1', mask=1)\n",
    "fig.add_subplot(2, 4, 7)\n",
    "imshow(img[:,:,250], v_max=380, v_min=450, h_min=115, h_max=185)\n",
    "imshow(seg_ws[:,:,250], v_max=380, v_min=450, h_min=115, h_max=185, alpha=0.5, cmap='Wistia', mask=1)\n",
    "imshow(seg_th2[:,:,250], v_max=380, v_min=450, h_min=115, h_max=185, alpha=0.5, cmap='Set1', mask=1)\n",
    "fig.add_subplot(2, 4, 8)\n",
    "plt.title(\"watershed\")\n",
    "imshow(img[:,:,250], v_max=380, v_min=450, h_min=115, h_max=185)\n",
    "imshow(seg_ws[:,:,250], v_max=380, v_min=450, h_min=115, h_max=185, alpha=0.5, cmap='Wistia', mask=1)"
   ]
  },
  {
   "cell_type": "markdown",
   "id": "475a5deb-14f3-4c89-b4f3-f955f4bc6fcf",
   "metadata": {},
   "source": [
    "### 結果の確認\n",
    "\n",
    "セグメンテーションの結果を出力し、3D Slicer等で確認してください。  \n",
    "なお、Visualization Toolkit（VTK）などを利用することで、Pythonでサーフェスモデルを作成することも可能です。"
   ]
  },
  {
   "cell_type": "code",
   "execution_count": null,
   "id": "d745f3b2-8b13-4cb2-ba65-e1758385fe2e",
   "metadata": {},
   "outputs": [],
   "source": [
    "os.makedirs('segmentation', exist_ok=True)\n",
    "sitk.WriteImage(seg_ws, 'segmentation/watershged.mhd')"
   ]
  },
  {
   "cell_type": "markdown",
   "id": "0d10166e-92ab-4455-b9ce-0fa5a5a6824b",
   "metadata": {},
   "source": [
    "### その他のセグメンテーションの方法\n",
    "- 深層学習：[Biomedisa](https://biomedisa.org/)など\n",
    "- ローカル閾値\n",
    "- レジストレーション\n",
    "- 手動  \n",
    "など"
   ]
  },
  {
   "cell_type": "markdown",
   "id": "269638f0-03c4-483f-8f0c-31722ec751d1",
   "metadata": {},
   "source": [
    "## レジストレーション\n",
    "\n",
    "レジストレーション（image registration）は、画像の重ね合わせ（整列）の技術です。\n",
    "\n",
    "> Image registration is the task of finding a spatial transformation mapping one image to another.\n",
    "\n",
    "![registration](figure/registration.png)\n",
    "elastix manualのFig. 2.1を改変。$I_M(T(x))$が$I_F(x)$に整列する$T(x)$を探索する。\n",
    "\n",
    "出典：S. Klein, M. Staring. Elastix, the manual, v5.0.1. https://github.com/SuperElastix/elastix/releases/download/5.0.1/elastix-5.0.1-manual.pdf, 2020.  \n",
    "\n",
    "以下のパラメータの調整が可能です。\n",
    "- Metrics：類似性評価指標\n",
    "- Image samplers：Fixed imageのサンプリング\n",
    "- Interpolators：Moving imageの補完\n",
    "- Transforms：変換\n",
    "  - Rigid（剛体変換）\n",
    "  - Non-rigid（非剛体変換）\n",
    "      - Affine（アフィン変換）\n",
    "      - Non-affine（非アフィン変換）\n",
    "        - B-splines\n",
    "        - Thin-plate splines\n",
    "- Optimisers：最適化アルゴリズム\n",
    "- Multi-resolution：データと変換の複雑性について、大域的で荒いものからより細かい設定に段階的に移行させる。そのステップ数や解像度などを設定する。\n",
    "\n",
    "今回はデフォルトのパラメータ設定で実行します（ただしDefaultPixelValueを-1000に変更）。  \n",
    "https://github.com/SuperElastix/ElastixModelZoo/tree/master/models/default\n",
    "\n",
    "###　ボリュームデータの準備\n",
    "MetaIO（.mhd）形式で保存します。"
   ]
  },
  {
   "cell_type": "code",
   "execution_count": null,
   "id": "f1af2d7f-d9c8-42e9-bd4a-3719e26ccd40",
   "metadata": {},
   "outputs": [],
   "source": [
    "os.makedirs('mhd', exist_ok=True)\n",
    "images = dict()\n",
    "for dir_name in os.listdir(\"./dicom\"):\n",
    "    if \"PRI\" in dir_name:\n",
    "        path_to_dir = os.path.join(\"./dicom\", dir_name)\n",
    "        images[dir_name] = read_dicom(path_to_dir)\n",
    "        sitk.WriteImage(images[dir_name], \"./mhd/\" + dir_name + \".mhd\")"
   ]
  },
  {
   "cell_type": "code",
   "execution_count": null,
   "id": "ed78fb5b-7594-472f-9dea-2ad271dc8182",
   "metadata": {},
   "outputs": [],
   "source": [
    "fig = plt.figure(figsize=(20,10))\n",
    "fig.add_subplot(1, 3, 1)\n",
    "plt.title(\"PRI-7379 (fixed image)\")\n",
    "imshow(images['PRI-7379'][250], phys_axis=True)\n",
    "fig.add_subplot(1, 3, 2)\n",
    "imshow(images['PRI-7379'][250], alpha=1, phys_axis=True)\n",
    "imshow(images['PRI-9361'][250], alpha=0.3, cmap='jet', phys_axis=True)\n",
    "fig.add_subplot(1, 3, 3)\n",
    "plt.title(\"PRI-9361 (moving image)\")\n",
    "imshow(images['PRI-9361'][250], phys_axis=True)"
   ]
  },
  {
   "cell_type": "markdown",
   "id": "fa527e20-78b3-4e09-953f-3002d8aa5b10",
   "metadata": {},
   "source": [
    "### 剛体変換（rigid transformation）\n",
    "形状とサイズの変化を伴わない、回転と平行移動のみの変換。"
   ]
  },
  {
   "cell_type": "code",
   "execution_count": null,
   "id": "bfa47dac-47b2-4718-afc8-815da38126cd",
   "metadata": {},
   "outputs": [],
   "source": [
    "os.makedirs(\"reg/rigid\", exist_ok=True)\n",
    "subprocess.run(\"elastix -f mhd/PRI-7379.mhd -m mhd/PRI-9361.mhd -out reg/rigid -p parameters/Parameters_Rigid.txt\", shell=True)\n",
    "# subprocess.run(\"source ~/.zshrc; elastix -f mhd/PRI-7379.mhd -m mhd/PRI-9361.mhd -out reg/rigid -p parameters/Parameters_Rigid.txt\", shell=True)"
   ]
  },
  {
   "cell_type": "code",
   "execution_count": null,
   "id": "f02918c1-046f-48f9-a1ab-51953cf9d071",
   "metadata": {},
   "outputs": [],
   "source": [
    "reg_rigid = sitk.ReadImage(\"./reg/rigid/result.0.mhd\")"
   ]
  },
  {
   "cell_type": "code",
   "execution_count": null,
   "id": "9f134da4-0c09-4c4b-ac15-227e72301dd6",
   "metadata": {},
   "outputs": [],
   "source": [
    "fig = plt.figure(figsize=(20,10))\n",
    "fig.add_subplot(1, 3, 1)\n",
    "plt.title(\"PRI-7379 (fixed image)\")\n",
    "imshow(images['PRI-7379'][250], phys_axis=True)\n",
    "fig.add_subplot(1, 3, 2)\n",
    "imshow(images['PRI-7379'][250], alpha=1, phys_axis=True)\n",
    "imshow(reg_rigid[250], alpha=0.3, cmap='jet', phys_axis=True)\n",
    "fig.add_subplot(1, 3, 3)\n",
    "plt.title(\"deformed PRI-9361 (moving image)\")\n",
    "imshow(reg_rigid[250], phys_axis=True)"
   ]
  },
  {
   "cell_type": "markdown",
   "id": "21d39588-5609-4f34-b39c-5ae5a21d7731",
   "metadata": {},
   "source": [
    "### アフィン変換（affine transformation）\n",
    "\n",
    "拡大縮小とせん断（スキュー）を含む変換。"
   ]
  },
  {
   "cell_type": "code",
   "execution_count": null,
   "id": "efdb5d3d-eb51-4bdb-88d7-84afed380a46",
   "metadata": {},
   "outputs": [],
   "source": [
    "os.makedirs(\"reg/affine\", exist_ok=True)\n",
    "subprocess.run(\"elastix -f mhd/PRI-7379.mhd -m mhd/PRI-9361.mhd -out reg/affine -p parameters/Parameters_Rigid.txt -p parameters/Parameters_Affine.txt\", shell=True)\n",
    "# subprocess.run(\"source ~/.zshrc; elastix -f mhd/PRI-7379.mhd -m mhd/PRI-9361.mhd -out reg/affine -p parameters/Parameters_Rigid.txt -p parameters/Parameters_Affine.txt\", shell=True)"
   ]
  },
  {
   "cell_type": "code",
   "execution_count": null,
   "id": "8f4002ba-d254-4468-ab4f-ad7025ee80f2",
   "metadata": {},
   "outputs": [],
   "source": [
    "reg_affine = sitk.ReadImage(\"./reg/affine/result.1.mhd\")"
   ]
  },
  {
   "cell_type": "code",
   "execution_count": null,
   "id": "b2ce2d35-358f-46be-aadd-4e23f8750edc",
   "metadata": {},
   "outputs": [],
   "source": [
    "fig = plt.figure(figsize=(20,10))\n",
    "fig.add_subplot(1, 3, 1)\n",
    "plt.title(\"PRI-7379 (fixed image)\")\n",
    "imshow(images['PRI-7379'][250], phys_axis=True)\n",
    "fig.add_subplot(1, 3, 2)\n",
    "imshow(images['PRI-7379'][250], alpha=1, phys_axis=True)\n",
    "imshow(reg_affine[250], alpha=0.3, cmap='jet', phys_axis=True)\n",
    "fig.add_subplot(1, 3, 3)\n",
    "plt.title(\"deformed PRI-9361 (moving image)\")\n",
    "imshow(reg_affine[250], phys_axis=True)"
   ]
  },
  {
   "cell_type": "markdown",
   "id": "f98a86b7-382e-400e-84de-fd0af3dc92e8",
   "metadata": {},
   "source": [
    "### 非アフィン変換\n",
    "屈曲を含む変換。今回はB-splinesを利用します。  \n",
    "注：計算に数分間かかる可能性があリます。"
   ]
  },
  {
   "cell_type": "code",
   "execution_count": null,
   "id": "94f94745-87f6-494d-b938-48fe3d7bcc8a",
   "metadata": {},
   "outputs": [],
   "source": [
    "os.makedirs(\"reg/bspline\", exist_ok=True)\n",
    "subprocess.run(\"elastix -f mhd/PRI-7379.mhd -m mhd/PRI-9361.mhd -out reg/bspline -p parameters/Parameters_Rigid.txt -p parameters/Parameters_Affine.txt -p parameters/Parameters_BSpline.txt\", shell=True)\n",
    "# subprocess.run(\"source ~/.zshrc; elastix -f mhd/PRI-7379.mhd -m mhd/PRI-9361.mhd -out reg/bspline -p parameters/Parameters_Rigid.txt -p parameters/Parameters_Affine.txt -p parameters/Parameters_BSpline.txt\", shell=True)"
   ]
  },
  {
   "cell_type": "code",
   "execution_count": null,
   "id": "d96658a0-fd42-41b3-81a1-b99b44eaa63d",
   "metadata": {},
   "outputs": [],
   "source": [
    "reg_bspline = sitk.ReadImage(\"./reg/bspline/result.2.mhd\")"
   ]
  },
  {
   "cell_type": "code",
   "execution_count": null,
   "id": "c5293047-89dd-4fea-ba07-3d4ac4771b9a",
   "metadata": {},
   "outputs": [],
   "source": [
    "fig = plt.figure(figsize=(20,10))\n",
    "fig.add_subplot(1, 3, 1)\n",
    "plt.title(\"PRI-7379 (fixed image)\")\n",
    "imshow(images['PRI-7379'][250], phys_axis=True)\n",
    "fig.add_subplot(1, 3, 2)\n",
    "imshow(images['PRI-7379'][250], alpha=1, phys_axis=True)\n",
    "imshow(reg_bspline[250], alpha=0.3, cmap='jet', phys_axis=True)\n",
    "fig.add_subplot(1, 3, 3)\n",
    "plt.title(\"deformed PRI-9361 (moving image)\")\n",
    "imshow(reg_bspline[250], phys_axis=True)"
   ]
  },
  {
   "cell_type": "markdown",
   "id": "78584bc8-646a-4580-9486-c85809186698",
   "metadata": {},
   "source": [
    "B-splines変換のmulti-resolutionのステップ数と解像度を調整し再度実行します。  \n",
    "\n",
    "- NumberOfResolutions 4 → 6\n",
    "- FinalGridSpacingInPhysicalUnits 16 → 8 \n",
    "\n",
    "注：計算に数分〜数十分間かかる可能性があります。"
   ]
  },
  {
   "cell_type": "code",
   "execution_count": null,
   "id": "60a521a2-6465-47ec-8ae9-4334accd67c4",
   "metadata": {},
   "outputs": [],
   "source": [
    "os.makedirs(\"reg/bspline2\", exist_ok=True)\n",
    "subprocess.run(\"elastix -f mhd/PRI-7379.mhd -m mhd/PRI-9361.mhd -out reg/bspline2 -p parameters/Parameters_Rigid.txt -p parameters/Parameters_Affine.txt -p parameters/Parameters_BSpline2.txt\", shell=True)\n",
    "# subprocess.run(\"source ~/.zshrc; elastix -f mhd/PRI-7379.mhd -m mhd/PRI-9361.mhd -out reg/bspline2 -p parameters/Parameters_Rigid.txt -p parameters/Parameters_Affine.txt -p parameters/Parameters_BSpline2.txt\", shell=True)"
   ]
  },
  {
   "cell_type": "code",
   "execution_count": null,
   "id": "352d9b58-bb99-4007-848f-01a332857b3a",
   "metadata": {},
   "outputs": [],
   "source": [
    "reg_bspline2 = sitk.ReadImage(\"./reg/bspline2/result.2.mhd\")"
   ]
  },
  {
   "cell_type": "code",
   "execution_count": null,
   "id": "93db74af-87aa-4b27-957a-044e509f2e7e",
   "metadata": {},
   "outputs": [],
   "source": [
    "fig = plt.figure(figsize=(20,10))\n",
    "fig.add_subplot(1, 3, 1)\n",
    "plt.title(\"PRI-7379 (fixed image)\")\n",
    "imshow(images['PRI-7379'][250], phys_axis=True)\n",
    "fig.add_subplot(1, 3, 2)\n",
    "imshow(images['PRI-7379'][250], alpha=1, phys_axis=True)\n",
    "imshow(reg_bspline2[250], alpha=0.3, cmap='jet', phys_axis=True)\n",
    "fig.add_subplot(1, 3, 3)\n",
    "plt.title(\"deformed PRI-9361 (moving image)\")\n",
    "imshow(reg_bspline2[250], phys_axis=True)"
   ]
  },
  {
   "cell_type": "markdown",
   "id": "3d38975f-20a8-4bb6-8476-831e466033d5",
   "metadata": {},
   "source": [
    "余力があれば以下も確認してみてください。\n",
    "- 各種パラメータを調整して変化を確認。  \n",
    "- 別種（PRI-3027）とのレジストレーションも可能か。\n",
    "\n",
    "### レジストレーションの応用\n",
    "\n",
    "- 自動ランドマーキング\n",
    "- セグメンテーション\n",
    "- 平均ボリュームデータの算出  \n",
    "など\n",
    "\n",
    "今回は、先ほどelastixで算出したトランスフォームパラメータを利用して、自動ランドマーキングを試みます。  \n",
    "1. 3D Slicerを利用して、fixed imageのランドマークを手動で取得する（[参考](https://itots.github.io/morphometrics_lecture/index.html#34_%E3%83%A9%E3%83%B3%E3%83%89%E3%83%9E%E3%83%BC%E3%82%AF%E3%83%87%E3%83%BC%E3%82%BF%E3%81%AE%E5%8F%96%E5%BE%97)) 。\n",
    "2. これをトランスフォームすることで、moving imageにマッピングする。\n",
    "\n",
    "3D Slicerのfscvファイルをelastixのtransformixが読み込める形式に変換します。"
   ]
  },
  {
   "cell_type": "code",
   "execution_count": null,
   "id": "18ed8240-05cb-487f-a975-26d721a93ef5",
   "metadata": {},
   "outputs": [],
   "source": [
    "def fcsv2trx(fcsv_file, trx_file):\n",
    "    df = pd.read_csv(fcsv_file, skiprows=2)\n",
    "    df = df.iloc[:,1:4]\n",
    "    with open(trx_file, 'w') as f:\n",
    "        f.write(\"point\\n\")\n",
    "        f.write(str(len(df))+\"\\n\")\n",
    "        for index, row in df.iterrows():\n",
    "            f.write(str(row[0]) + '\\t' + str(row[1]) + '\\t' + str(row[2]) + '\\n')"
   ]
  },
  {
   "cell_type": "code",
   "execution_count": null,
   "id": "da2a0d0a-f0c7-41e5-8a4d-b9b7421e65b0",
   "metadata": {},
   "outputs": [],
   "source": [
    "os.makedirs('transformix/fixed', exist_ok=True)\n",
    "fcsv2trx(fcsv_file='landmarks/PRI-7379.fcsv', trx_file='transformix/fixed/PRI-7379.txt')"
   ]
  },
  {
   "cell_type": "markdown",
   "id": "44872d73-6403-416f-b49b-ff25ce7f6a20",
   "metadata": {},
   "source": [
    "elastixの`transformix`を利用してfixed imageのランドマークを変換し、moving imageにマッピングします。"
   ]
  },
  {
   "cell_type": "code",
   "execution_count": null,
   "id": "42fdfd2a-5f56-4a75-9eed-cdf9f2fe5910",
   "metadata": {},
   "outputs": [],
   "source": [
    "os.makedirs('transformix/moving/PRI-9361', exist_ok=True)\n",
    "subprocess.run(\"transformix -def transformix/fixed/PRI-7379.txt -out transformix/moving/PRI-9361 -tp reg/bspline2/TransformParameters.2.txt\", shell=True)\n",
    "# subprocess.run(\"source ~/.zshrc; transformix -def transformix/fixed/PRI-7379.txt -out transformix/moving/PRI-9361 -tp reg/bspline2/TransformParameters.2.txt\", shell=True)"
   ]
  },
  {
   "cell_type": "markdown",
   "id": "bb7bb7e6-7eeb-4bd7-b50c-afd980c4bf27",
   "metadata": {},
   "source": [
    "`transformix`の出力結果をfcsv形式に変換します。"
   ]
  },
  {
   "cell_type": "code",
   "execution_count": null,
   "id": "947464ba-cc17-403a-a0b1-ab93f0757a09",
   "metadata": {},
   "outputs": [],
   "source": [
    "def trx2fcsv(trx_file, fcsv_file):\n",
    "    with open(trx_file) as f:\n",
    "        points = []\n",
    "        for line in f:\n",
    "            points += [line.split(\";\")[4].split(\" \")[4:7]]\n",
    "    df = pd.DataFrame(np.array(points, dtype = float), columns=list('xyz'))\n",
    "    with open(fcsv_file, 'w') as f:\n",
    "        f.write('# Markups fiducial file version = 4.11\\n')\n",
    "        f.write('# CoordinateSystem = LPS\\n')\n",
    "        f.write('# columns = id,x,y,z\\n')\n",
    "        for index, row in df.iterrows():\n",
    "            f.write(str(index+1)+','+str(row[0])+','+str(row[1])+','+str(row[2])+'\\n')"
   ]
  },
  {
   "cell_type": "code",
   "execution_count": null,
   "id": "6134cb6b-5512-470c-9393-8a94dab0ecd9",
   "metadata": {},
   "outputs": [],
   "source": [
    "os.makedirs('transformix/fcsv', exist_ok=True)\n",
    "trx2fcsv(trx_file='transformix/moving/PRI-9361/outputpoints.txt', fcsv_file='transformix/fcsv/PRI-9361.fcsv')"
   ]
  },
  {
   "cell_type": "markdown",
   "id": "c7d90ba5-59f6-4736-924e-5907d5ac59cc",
   "metadata": {},
   "source": [
    "3D Slicerに読み込んで、手動計測の結果と比較してみてください。  \n",
    "\n",
    "なお、レジストレーションに基づく自動ランドマーキングは、深層学習と組み合わせることで精度が向上することが報告されています（Devine et al. 2020）。  \n",
    "また、今回お示ししたような画像のレジストレーションではなく、点群のレジストレーションを利用した自動ランドマーキングの方法も開発されています（Porto et al. 2021）。3D Slicerのモジュール（[Slicer Morph](https://slicermorph.github.io/)）として利用できるようです。"
   ]
  },
  {
   "cell_type": "markdown",
   "id": "7298fb1c-ff1b-432e-9bc3-7c05f1de71f3",
   "metadata": {},
   "source": [
    "## 参考・引用文献\n",
    "\n",
    "- SimpleITK Sphinx Documentation. https://simpleitk.readthedocs.io/en/master/index.html\n",
    "- SimpleITK Notebooks. https://github.com/InsightSoftwareConsortium/SimpleITK-Notebooks\n",
    "- S. Klein, M. Staring. Elastix, the manual, v5.0.1. https://github.com/SuperElastix/elastix/releases/download/5.0.1/elastix-5.0.1-manual.pdf, 2020.\n",
    "- R. Beare, B. C. Lowekamp, Z. Yaniv, “Image Segmentation, Registration and Characterization in R with SimpleITK”, J Stat Softw, 86(8), https://doi.org/10.18637/jss.v086.i08, 2018.\n",
    "- Z. Yaniv, B. C. Lowekamp, H. J. Johnson, R. Beare, “SimpleITK Image-Analysis Notebooks: a Collaborative Environment for Education and Reproducible Research”, J Digit Imaging., https://doi.org/10.1007/s10278-017-0037-8, 31(3): 290-303, 2018.\n",
    "- B. C. Lowekamp, D. T. Chen, L. Ibáñez, D. Blezek, “The Design of SimpleITK”, Front. Neuroinform., 7:45. https://doi.org/10.3389/fninf.2013.00045, 2013.\n",
    "- S. Klein, M. Staring, K. Murphy, M.A. Viergever and J.P.W. Pluim, \"elastix: a toolbox for intensity based medical image registration,\" IEEE Transactions on Medical Imaging, vol. 29, no. 1, pp. 196 - 205, January 2010. download doi\n",
    "- D.P. Shamonin, E.E. Bron, B.P.F. Lelieveldt, M. Smits, S. Klein and M. Staring, \"Fast Parallel Image Registration on CPU and GPU for Diagnostic Classification of Alzheimer's Disease\", Frontiers in Neuroinformatics, vol. 7, no. 50, pp. 1-15, January 2014. download doi\n",
    "- Kikinis R, Pieper SD, Vosburgh K (2014) 3D Slicer: a platform for subject-specific image analysis, visualization, and clinical support. Intraoperative Imaging Image-Guided Therapy, Ferenc A. Jolesz, Editor 3(19):277–289 ISBN: 978-1-4614-7656-6 (Print) 978-1-4614-7657-3 (Online)\n",
    "- Sobel operator: https://en.wikipedia.org/wiki/Sobel_operator\n",
    "- Devine, Jay, Jose D. Aponte, David C. Katz, Wei Liu, Lucas D. Lo Vercio, Nils D. Forkert, Ralph Marcucio, Christopher J. Percival, and Benedikt Hallgrímsson. 2020. “A Registration and Deep Learning Approach to Automated Landmark Detection for Geometric Morphometrics.” Evolutionary Biology 47 (3): 246–59.\n",
    "- Porto, Arthur, Sara Rolfe, and A. Murat Maga. 2021. “ALPACA: A Fast and Accurate Computer Vision Approach for Automated Landmarking of Three‐dimensional Biological Structures.” Methods in Ecology and Evolution / British Ecological Society, no. 2041-210X.13689 (August). https://doi.org/10.1111/2041-210x.13689."
   ]
  }
 ],
 "metadata": {
  "kernelspec": {
   "display_name": "Python 3 (ipykernel)",
   "language": "python",
   "name": "python3"
  },
  "language_info": {
   "codemirror_mode": {
    "name": "ipython",
    "version": 3
   },
   "file_extension": ".py",
   "mimetype": "text/x-python",
   "name": "python",
   "nbconvert_exporter": "python",
   "pygments_lexer": "ipython3",
   "version": "3.9.7"
  },
  "toc": {
   "base_numbering": 1,
   "nav_menu": {},
   "number_sections": true,
   "sideBar": true,
   "skip_h1_title": true,
   "title_cell": "Table of Contents",
   "title_sidebar": "Contents",
   "toc_cell": false,
   "toc_position": {
    "height": "calc(100% - 180px)",
    "left": "10px",
    "top": "150px",
    "width": "196.649px"
   },
   "toc_section_display": true,
   "toc_window_display": true
  },
  "toc-autonumbering": true,
  "toc-showcode": false,
  "toc-showmarkdowntxt": false,
  "toc-showtags": false
 },
 "nbformat": 4,
 "nbformat_minor": 5
}
